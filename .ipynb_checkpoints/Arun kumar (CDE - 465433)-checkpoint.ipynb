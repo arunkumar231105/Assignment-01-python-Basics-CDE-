{
 "cells": [
  {
   "cell_type": "markdown",
   "metadata": {},
   "source": [
    "# Part -1 Python Basics (Variables)"
   ]
  },
  {
   "cell_type": "markdown",
   "metadata": {},
   "source": [
    "1. Print Your Name with your Father name and Date of birth using suitable escape sequence charactor"
   ]
  },
  {
   "cell_type": "code",
   "execution_count": 4,
   "metadata": {},
   "outputs": [
    {
     "name": "stdout",
     "output_type": "stream",
     "text": [
      "Arun kumar\n",
      "Bhawani Shanker\n",
      "23-11-2005\n"
     ]
    }
   ],
   "source": [
    "# Write your code here\n",
    "print(\"Arun kumar\\nBhawani Shanker\\n23-11-2005\")"
   ]
  },
  {
   "cell_type": "markdown",
   "metadata": {},
   "source": [
    "2. Write your small bio using variables and print it using print function"
   ]
  },
  {
   "cell_type": "code",
   "execution_count": 9,
   "metadata": {},
   "outputs": [
    {
     "name": "stdout",
     "output_type": "stream",
     "text": [
      "My name is Arun kumar iam a Software Engineering Student Just completed my 2nd year.\n",
      "Moverover currently iam doing a cloud data Engineering at SMIT. \n"
     ]
    }
   ],
   "source": [
    "# Write your code here\n",
    "my_bio = \"My name is Arun kumar iam a Software Engineering Student Just completed my 2nd year.\\nMoverover currently iam doing a cloud data Engineering at SMIT. \"\n",
    "print (my_bio)"
   ]
  },
  {
   "cell_type": "markdown",
   "metadata": {},
   "source": [
    "3. Write a program in which use all the operators we can use in Python"
   ]
  },
  {
   "cell_type": "code",
   "execution_count": 1,
   "metadata": {},
   "outputs": [
    {
     "name": "stdout",
     "output_type": "stream",
     "text": [
      "a + b = 13\n",
      "a - b = 7\n",
      "a * b = 30\n",
      "a / b = 3.3333333333333335\n",
      "a % b = 1\n",
      "a // b = 3\n",
      "a ** b = 1000\n"
     ]
    }
   ],
   "source": [
    "# Write your code here\n",
    "a = 10\n",
    "b = 3\n",
    "\n",
    "print(\"a + b =\", a + b)   \n",
    "print(\"a - b =\", a - b)  \n",
    "print(\"a * b =\", a * b)   \n",
    "print(\"a / b =\", a / b)   \n",
    "print(\"a % b =\", a % b)   \n",
    "print(\"a // b =\", a // b) \n",
    "print(\"a ** b =\", a ** b) \n"
   ]
  },
  {
   "cell_type": "markdown",
   "metadata": {},
   "source": [
    "4. Completes the following steps of small task:\n",
    "    - Mention Marks of English , Islamiat and Maths out of 100 in 3 different variables\n",
    "    - Mention Variable of Total Marks and assign 300 to it\n",
    "    - Calculate Percentage"
   ]
  },
  {
   "cell_type": "code",
   "execution_count": 12,
   "metadata": {},
   "outputs": [
    {
     "name": "stdout",
     "output_type": "stream",
     "text": [
      "Obt_Marks is : 223\n",
      "Percentage is :  74.33333333333333\n"
     ]
    }
   ],
   "source": [
    "# Write your code here\n",
    "English = 85\n",
    "Islamiat = 70\n",
    "Maths = 68\n",
    "Total_marks = 300\n",
    "percentage = English + Maths + Islamiat \n",
    "obt_marks = English + Islamiat + Maths \n",
    "\n",
    "percentage = (obt_marks/Total_marks) * 100\n",
    "\n",
    "print (\"Obt_Marks is :\" , obt_marks)\n",
    "print (\"Percentage is : \", percentage)\n"
   ]
  },
  {
   "cell_type": "markdown",
   "metadata": {},
   "source": [
    "# Part -2 Python Basics (Conditional Statements)"
   ]
  },
  {
   "cell_type": "markdown",
   "metadata": {},
   "source": [
    "1) A company decided to give bonus of 5% to employee if his/her year of service is more than 5 years.\n",
    "Ask user for their salary and year of service and print the net bonus amount."
   ]
  },
  {
   "cell_type": "code",
   "execution_count": 9,
   "metadata": {},
   "outputs": [
    {
     "name": "stdin",
     "output_type": "stream",
     "text": [
      "Enter your current salary :  10000\n",
      "Enter your years of service :  4\n"
     ]
    },
    {
     "name": "stdout",
     "output_type": "stream",
     "text": [
      "No Bonus\n"
     ]
    }
   ],
   "source": [
    "#Type your code here\n",
    "salary = float(input(\"Enter your current salary : \"))\n",
    "service = int(input(\"Enter your years of service : \"))\n",
    "bonus = salary * 0.05\n",
    "if service > 5 :\n",
    "    print (\"Your net bounus amount is \" , bonus)\n",
    "else:\n",
    "    print (\"No Bonus\")\n",
    "    \n",
    "\n"
   ]
  },
  {
   "cell_type": "markdown",
   "metadata": {},
   "source": [
    "\n",
    "2) Write a program to check whether a person is eligible for voting or not. (accept age from user) if age is greater than 17 eligible otherwise not eligible"
   ]
  },
  {
   "cell_type": "code",
   "execution_count": 4,
   "metadata": {},
   "outputs": [
    {
     "name": "stdin",
     "output_type": "stream",
     "text": [
      "Enter your age for voting :  18\n"
     ]
    },
    {
     "name": "stdout",
     "output_type": "stream",
     "text": [
      "You are eligible \n"
     ]
    }
   ],
   "source": [
    "#Type your code here\n",
    "person_age = int (input(\"Enter your age for voting : \"))\n",
    "if person_age > 17 :\n",
    "    print (\"You are eligible \")\n",
    "else :\n",
    "    print (\"You are not eligible\")"
   ]
  },
  {
   "cell_type": "markdown",
   "metadata": {},
   "source": [
    "\n",
    "3) Write a program to check whether a number entered by user is even or odd."
   ]
  },
  {
   "cell_type": "code",
   "execution_count": 19,
   "metadata": {},
   "outputs": [
    {
     "name": "stdin",
     "output_type": "stream",
     "text": [
      "Enter Number :  6\n"
     ]
    },
    {
     "name": "stdout",
     "output_type": "stream",
     "text": [
      "Even Number \n"
     ]
    }
   ],
   "source": [
    "#Type your code here\n",
    "num1 = int(input(\"Enter Number : \"))\n",
    "\n",
    "if num1 % 2 == 0 :\n",
    "    print (\"Even Number \")\n",
    "else :\n",
    "    print (\"Odd number\")"
   ]
  },
  {
   "cell_type": "markdown",
   "metadata": {},
   "source": [
    "4) Write a program to check whether a number is divisible by 7 or not.\n",
    "Show Answer"
   ]
  },
  {
   "cell_type": "code",
   "execution_count": 22,
   "metadata": {},
   "outputs": [
    {
     "name": "stdin",
     "output_type": "stream",
     "text": [
      "Enter a number :  23\n"
     ]
    },
    {
     "name": "stdout",
     "output_type": "stream",
     "text": [
      "Number is Not divisible by 7\n"
     ]
    }
   ],
   "source": [
    "#Type your code here\n",
    "num = int(input(\"Enter a number : \"))\n",
    "if num % 7 == 0 :\n",
    "    print (\"Number is divisible by 7\")\n",
    "else :\n",
    "    print (\"Number is Not divisible by 7\")"
   ]
  },
  {
   "cell_type": "markdown",
   "metadata": {},
   "source": [
    "5) Write a program to display \n",
    "\"Hello\" if a number entered by user is a multiple of five , otherwise print \"Bye\"."
   ]
  },
  {
   "cell_type": "code",
   "execution_count": 25,
   "metadata": {},
   "outputs": [
    {
     "name": "stdin",
     "output_type": "stream",
     "text": [
      "Enter a number :  56\n"
     ]
    },
    {
     "name": "stdout",
     "output_type": "stream",
     "text": [
      "Bye\n"
     ]
    }
   ],
   "source": [
    "#Type your code here\n",
    "number = int(input(\"Enter a number : \"))\n",
    "if  number % 5 == 0 :\n",
    "    print (\"Hello\")\n",
    "else :\n",
    "    print (\"BY\")"
   ]
  },
  {
   "cell_type": "markdown",
   "metadata": {},
   "source": [
    "7) Write a program to display the last digit of a number.\""
   ]
  },
  {
   "cell_type": "code",
   "execution_count": 28,
   "metadata": {},
   "outputs": [
    {
     "name": "stdin",
     "output_type": "stream",
     "text": [
      "Enter a number :  174\n"
     ]
    },
    {
     "name": "stdout",
     "output_type": "stream",
     "text": [
      "Last digit is :  4\n"
     ]
    }
   ],
   "source": [
    "#Type your code here\n",
    "num = int (input(\"Enter a number : \"))\n",
    "last_digit = num % 10\n",
    "print (\"Last digit is : \" , last_digit)"
   ]
  },
  {
   "cell_type": "markdown",
   "metadata": {},
   "source": [
    "9) Take values of length and breadth of a rectangle from user and print if it is square or rectangle."
   ]
  },
  {
   "cell_type": "code",
   "execution_count": 30,
   "metadata": {},
   "outputs": [
    {
     "name": "stdin",
     "output_type": "stream",
     "text": [
      "Enter length :  16\n",
      "Enter breadth :  16\n"
     ]
    },
    {
     "name": "stdout",
     "output_type": "stream",
     "text": [
      "It is Square\n"
     ]
    }
   ],
   "source": [
    "#Type your code here \n",
    "length = float(input(\"Enter length : \"))\n",
    "breadth = float(input(\"Enter breadth : \"))\n",
    "\n",
    "if length == breadth :\n",
    "    print (\"It is Square\")\n",
    "else :\n",
    "    print (\"It is rectangle\")"
   ]
  },
  {
   "cell_type": "markdown",
   "metadata": {},
   "source": [
    "10) Take two int values from user and print greatest among them."
   ]
  },
  {
   "cell_type": "code",
   "execution_count": 32,
   "metadata": {},
   "outputs": [
    {
     "name": "stdin",
     "output_type": "stream",
     "text": [
      "Enter value 1 :  16\n",
      "Enter value 2 :  23\n"
     ]
    },
    {
     "name": "stdout",
     "output_type": "stream",
     "text": [
      "Greatest value is : 23\n"
     ]
    }
   ],
   "source": [
    "# Type your code here\n",
    "num1 = int (input(\"Enter value 1 : \"))\n",
    "num2 = int (input(\"Enter value 2 : \"))\n",
    "\n",
    "if num1 > num2 :\n",
    "    print (\"Greatest value is :\" , num1)\n",
    "else :\n",
    "    print (\"Greatest value is :\" , num2)"
   ]
  },
  {
   "cell_type": "markdown",
   "metadata": {},
   "source": [
    "11) A shop will give discount of 10% if the cost of purchased quantity is more than 1000.\n",
    "Ask user for quantity\n",
    "Suppose, one unit will cost 100.\n",
    "Judge and print total cost for user."
   ]
  },
  {
   "cell_type": "code",
   "execution_count": 42,
   "metadata": {},
   "outputs": [
    {
     "name": "stdin",
     "output_type": "stream",
     "text": [
      "Enter purchased Quantity :  12\n"
     ]
    },
    {
     "name": "stdout",
     "output_type": "stream",
     "text": [
      "Total cost:   1080.0\n"
     ]
    }
   ],
   "source": [
    "#Type your code here\n",
    "quantity = int (input(\"Enter purchased Quantity : \"))\n",
    "cost = quantity * 100 \n",
    "discount = cost * 0.10\n",
    "if cost > 1000 :\n",
    "    cost = cost - discount\n",
    "    print (\"Total cost:  \" , cost )"
   ]
  },
  {
   "cell_type": "markdown",
   "metadata": {},
   "source": [
    "12) A school has following rules for grading system:\n",
    "\n",
    "a. Below 25 - F\n",
    "\n",
    "b. 25 to 45 - E\n",
    "\n",
    "c. 45 to 50 - D\n",
    "\n",
    "d. 50 to 60 - C\n",
    "\n",
    "e. 60 to 80 - B\n",
    "\n",
    "f. Above 80 - A\n",
    "\n",
    "Ask user to enter marks and print the corresponding grade."
   ]
  },
  {
   "cell_type": "code",
   "execution_count": 46,
   "metadata": {},
   "outputs": [
    {
     "name": "stdin",
     "output_type": "stream",
     "text": [
      "Enter your marks:  85\n"
     ]
    },
    {
     "name": "stdout",
     "output_type": "stream",
     "text": [
      "A\n"
     ]
    }
   ],
   "source": [
    "marks = int(input(\"Enter your marks: \"))\n",
    "\n",
    "if marks < 25:\n",
    "    print(\"F\")\n",
    "elif marks < 45:\n",
    "    print(\"E\")\n",
    "elif marks < 50:\n",
    "    print(\"D\")\n",
    "elif marks < 60:\n",
    "    print(\"C\")\n",
    "elif marks <= 80:\n",
    "    print(\"B\")\n",
    "else:\n",
    "    print(\"A\")\n"
   ]
  },
  {
   "cell_type": "markdown",
   "metadata": {},
   "source": [
    "14)A student will not be allowed to sit in exam if his/her attendence is less than 75%.\n",
    "\n",
    "Take following input from user\n",
    "\n",
    "- Number of classes held\n",
    "\n",
    "- Number of classes attended.\n",
    "\n",
    "And print\n",
    "\n",
    "- percentage of class attended\n",
    "\n",
    "- Is student is allowed to sit in exam or not.\n"
   ]
  },
  {
   "cell_type": "code",
   "execution_count": 6,
   "metadata": {},
   "outputs": [
    {
     "name": "stdin",
     "output_type": "stream",
     "text": [
      "Enter of class held : 70\n",
      "Enter Number of classes attended : 60\n"
     ]
    },
    {
     "name": "stdout",
     "output_type": "stream",
     "text": [
      "Percentage of class attended :  85.71428571428571\n",
      "Your allowed to sit in exam \n"
     ]
    }
   ],
   "source": [
    "#Type your code here\n",
    "num_of_class = int(input(\"Enter of class held :\"))\n",
    "attend_class = int(input(\"Enter Number of classes attended :\"))\n",
    "percentage = (attend_class / num_of_class) * 100\n",
    "\n",
    "print (\"Percentage of class attended : \" , percentage)\n",
    "if percentage >= 75 :\n",
    "    print (\"Your allowed to sit in exam \")\n",
    "else :\n",
    "    print (\"Your not allowed to sit in exam\")"
   ]
  },
  {
   "cell_type": "markdown",
   "metadata": {},
   "source": [
    "15) Modify the above question to allow student to sit if he/she has medical cause. Ask user if he/she has medical cause or not ( 'Y' or 'N' ) and print accordingly."
   ]
  },
  {
   "cell_type": "code",
   "execution_count": 1,
   "metadata": {},
   "outputs": [
    {
     "name": "stdin",
     "output_type": "stream",
     "text": [
      "Enter of class held : 12\n",
      "Enter Number of classes attended : 5\n",
      "Do you have any medical issue (Y or N) :  y\n"
     ]
    },
    {
     "name": "stdout",
     "output_type": "stream",
     "text": [
      "Percentage of class attended :  41.66666666666667\n",
      "You are allowed to sit in exam because of medical cause\n"
     ]
    }
   ],
   "source": [
    "#Type your code here\n",
    "num_of_class = int(input(\"Enter of class held :\"))\n",
    "attend_class = int(input(\"Enter Number of classes attended :\"))\n",
    "percentage = (attend_class / num_of_class) * 100\n",
    "medical = input((\"Do you have any medical issue (Y or N) : \"))\n",
    "\n",
    "print (\"Percentage of class attended : \" , percentage)\n",
    "if percentage >= 75 :\n",
    "    print (\"You are allowed to sit in exam \")\n",
    "elif medical.upper() == 'Y' :\n",
    "    print (\"You are allowed to sit in exam because of medical cause\")\n",
    "else :\n",
    "    print (\"You are not allowed to sit in exam\")"
   ]
  },
  {
   "cell_type": "markdown",
   "metadata": {},
   "source": [
    "16) Write a program to check if a year is leap year or not.\n",
    "\n",
    "If a year is divisible by 4 then it is leap year but if the year is century year like 2000, 1900, 2100 then it must be divisible by 400."
   ]
  },
  {
   "cell_type": "code",
   "execution_count": 8,
   "metadata": {},
   "outputs": [
    {
     "name": "stdin",
     "output_type": "stream",
     "text": [
      "Enter a year : 12\n"
     ]
    },
    {
     "name": "stdout",
     "output_type": "stream",
     "text": [
      "12 is a leap year\n"
     ]
    }
   ],
   "source": [
    "#Type your code here\n",
    "year = int(input(\"Enter a year :\"))\n",
    "if year % 4 == 0 :\n",
    "    print (year , \"is a leap year\")\n",
    "elif year % 400 == 0 :\n",
    "    print (year , \"is a leap year\")\n",
    "else :\n",
    "    print (year , \"is not a leap year\")"
   ]
  },
  {
   "cell_type": "markdown",
   "metadata": {},
   "source": [
    "17) Ask user to enter age, gender ( M or F ), marital status ( Y or N ) and then using following rules print their place of service.\n",
    "\n",
    "if employee is female, then she will work only in urban areas.\n",
    "\n",
    "if employee is a male and age is in between 20 to 40 then he may work in anywhere\n",
    "\n",
    "if employee is male and age is in between 40 t0 60 then he will work in urban areas only.\n",
    "\n",
    "And any other input of age should print \"ERROR\""
   ]
  },
  {
   "cell_type": "code",
   "execution_count": 21,
   "metadata": {},
   "outputs": [
    {
     "name": "stdin",
     "output_type": "stream",
     "text": [
      "Enter your age : 34\n",
      "Enter your gender (Male/Female) : Female\n",
      "Enter your marital status (Y/N):  Y\n"
     ]
    },
    {
     "name": "stdout",
     "output_type": "stream",
     "text": [
      "You will work only in urban areas\n"
     ]
    }
   ],
   "source": [
    "#Type your code here\n",
    "age = int (input(\"Enter your age :\"))\n",
    "gender = input(\"Enter your gender (Male/Female) :\")\n",
    "marital_status = input(\"Enter your marital status (Y/N): \")\n",
    "\n",
    "if gender == 'Female' :\n",
    "    print (\"You will work only in urban areas\")\n",
    "elif gender == 'Male' :\n",
    "    if 20 <= age <= 40 :\n",
    "        print (\"You will work in anywhere\")\n",
    "elif gender == 'Male' :\n",
    "    if 40 <= age <= 60 :\n",
    "        print (\"You will work in urban areas only\")\n",
    "else :\n",
    "    print(\"ERROR\")\n",
    "     "
   ]
  },
  {
   "cell_type": "markdown",
   "metadata": {},
   "source": [
    "6) Write a program to calculate the electricity bill (accept number of unit from user) according to the following criteria :\n",
    "     Unit                                                     Price  \n",
    "uptp 100 units                                             no charge\n",
    "Next 200 units                                              Rs 5 per unit\n",
    "After 200 units                                             Rs 10 per unit\n",
    "(For example if input unit is 350 than total bill amount is Rs.3500\n",
    "(For example if input unit is 97 than total bill amount is Rs.0\n",
    "(For example if input unit is 150 than total bill amount is Rs.750"
   ]
  },
  {
   "cell_type": "code",
   "execution_count": 22,
   "metadata": {},
   "outputs": [
    {
     "name": "stdin",
     "output_type": "stream",
     "text": [
      "Enter number of units consumed:  235\n"
     ]
    },
    {
     "name": "stdout",
     "output_type": "stream",
     "text": [
      "Total bill amount is Rs. 675\n"
     ]
    }
   ],
   "source": [
    "#Type your code here\n",
    "units = int(input(\"Enter number of units consumed: \"))\n",
    "\n",
    "if units <= 100:\n",
    "    bill = 0\n",
    "elif units <= 300:\n",
    "    bill = (units - 100) * 5\n",
    "else:\n",
    "    bill = (200 * 5) + ((units - 300) * 10)\n",
    "\n",
    "print(\"Total bill amount is Rs.\", bill)\n"
   ]
  },
  {
   "cell_type": "markdown",
   "metadata": {},
   "source": [
    "13) Take input of age of 3 people by user and determine oldest and youngest among them."
   ]
  },
  {
   "cell_type": "code",
   "execution_count": 23,
   "metadata": {},
   "outputs": [
    {
     "name": "stdin",
     "output_type": "stream",
     "text": [
      "Enter age of first person:  43\n",
      "Enter age of second person:  23\n",
      "Enter age of third person:  69\n"
     ]
    },
    {
     "name": "stdout",
     "output_type": "stream",
     "text": [
      "The oldest age is: 69\n",
      "The youngest age is: 23\n"
     ]
    }
   ],
   "source": [
    "#Type your code here\n",
    "p1 = int(input(\"Enter age of first person: \"))\n",
    "p2 = int(input(\"Enter age of second person: \"))\n",
    "p3 = int(input(\"Enter age of third person: \"))\n",
    "\n",
    "\n",
    "old = max(p1, p2, p3)\n",
    "young = min(p1, p2, p3)\n",
    "\n",
    "print(\"The oldest age is:\", old)\n",
    "print(\"The youngest age is:\", young)\n"
   ]
  }
 ],
 "metadata": {
  "kernelspec": {
   "display_name": "Python (base)",
   "language": "python",
   "name": "base"
  },
  "language_info": {
   "codemirror_mode": {
    "name": "ipython",
    "version": 3
   },
   "file_extension": ".py",
   "mimetype": "text/x-python",
   "name": "python",
   "nbconvert_exporter": "python",
   "pygments_lexer": "ipython3",
   "version": "3.13.5"
  }
 },
 "nbformat": 4,
 "nbformat_minor": 4
}
